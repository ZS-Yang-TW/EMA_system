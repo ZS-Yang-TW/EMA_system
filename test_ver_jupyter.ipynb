{
 "cells": [
  {
   "cell_type": "code",
   "execution_count": 1,
   "metadata": {},
   "outputs": [
    {
     "data": {
      "text/html": [
       "<pre style=\"white-space:pre;overflow-x:auto;line-height:normal;font-family:Menlo,'DejaVu Sans Mono',consolas,'Courier New',monospace\">Manim Community <span style=\"color: #008000; text-decoration-color: #008000\">v0.16.0.post0</span>\n",
       "\n",
       "</pre>\n"
      ],
      "text/plain": [
       "Manim Community \u001b[32mv0.\u001b[0m\u001b[32m16.0\u001b[0m\u001b[32m.post0\u001b[0m\n",
       "\n"
      ]
     },
     "metadata": {},
     "output_type": "display_data"
    }
   ],
   "source": [
    "# 引入套件\n",
    "from manim import *\n",
    "from pathlib import Path\n",
    "import os\n",
    "\n",
    "# 引入模板\n",
    "from EMA_system.template import *\n"
   ]
  },
  {
   "cell_type": "code",
   "execution_count": null,
   "metadata": {},
   "outputs": [],
   "source": [
    "class test(addition):\n",
    "    def construct(self):\n",
    "        self.muti_addition([1,24,5],(-5,2))\n",
    "        self.plus_number(2,(-4,0))\n",
    "        self.plus_number(3,(-4,-1))\n",
    "        self.plus_number(4,(-4,-2))\n",
    "        Ans_1 = self.addition_table((123,456),(3,2.5),0.4)\n",
    "        Ans_2 = self.addition_table((135,245),(3,0),0.4)\n",
    "        self.addition_table((Ans_1,Ans_2),(3,-2.5),0.4)\n",
    "        self.wait(2)"
   ]
  },
  {
   "cell_type": "code",
   "execution_count": 11,
   "metadata": {},
   "outputs": [],
   "source": [
    "class test(addition):\n",
    "    def construct(self):\n",
    "        self.add_sound('voice_output.mp3')\n",
    "        self.muti_addition([1,2,2,1],(-1,0))"
   ]
  },
  {
   "cell_type": "code",
   "execution_count": 5,
   "metadata": {},
   "outputs": [],
   "source": [
    "class test(addition):\n",
    "    def construct(self):\n",
    "        self.plus_number(2,(0,0))"
   ]
  },
  {
   "cell_type": "code",
   "execution_count": 3,
   "metadata": {},
   "outputs": [],
   "source": [
    "class test(Scene):\n",
    "    \n",
    "    def construct(self):\n",
    "        self.camera.background_color = WHITE\n",
    "        self.add(Text(\"Hello world\",color=BLACK))\n",
    "        self.wait()"
   ]
  },
  {
   "cell_type": "code",
   "execution_count": 12,
   "metadata": {},
   "outputs": [
    {
     "name": "stderr",
     "output_type": "stream",
     "text": [
      "                                                                                 \r"
     ]
    },
    {
     "data": {
      "text/html": [
       "<video src=\"media\\jupyter\\test@2022-08-28@13-53-59.mp4\" controls autoplay loop style=\"max-width: 60%;\"  >\n",
       "      Your browser does not support the <code>video</code> element.\n",
       "    </video>"
      ],
      "text/plain": [
       "<IPython.core.display.Video object>"
      ]
     },
     "metadata": {},
     "output_type": "display_data"
    }
   ],
   "source": [
    "# 魔術命令，用來對終端機輸入指令。 \n",
    "%manim -v Warning --disable_caching -pqm test"
   ]
  },
  {
   "cell_type": "code",
   "execution_count": null,
   "metadata": {},
   "outputs": [],
   "source": []
  },
  {
   "cell_type": "code",
   "execution_count": null,
   "metadata": {},
   "outputs": [],
   "source": []
  }
 ],
 "metadata": {
  "kernelspec": {
   "display_name": "Python 3.9.0 64-bit",
   "language": "python",
   "name": "python3"
  },
  "language_info": {
   "codemirror_mode": {
    "name": "ipython",
    "version": 3
   },
   "file_extension": ".py",
   "mimetype": "text/x-python",
   "name": "python",
   "nbconvert_exporter": "python",
   "pygments_lexer": "ipython3",
   "version": "3.9.0"
  },
  "orig_nbformat": 4,
  "vscode": {
   "interpreter": {
    "hash": "b83044019f24dd6a59c641ad64d62197b2c8e2bba96b67c3a471417d67d79ebd"
   }
  }
 },
 "nbformat": 4,
 "nbformat_minor": 2
}
